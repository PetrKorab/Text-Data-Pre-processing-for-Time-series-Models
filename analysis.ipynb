{
 "cells": [
  {
   "cell_type": "code",
   "execution_count": null,
   "outputs": [],
   "source": [
    "# Reading data"
   ],
   "metadata": {
    "collapsed": false,
    "pycharm": {
     "name": "#%%\n"
    }
   }
  },
  {
   "cell_type": "code",
   "execution_count": null,
   "outputs": [],
   "source": [
    "import polars as pl\n",
    "\n",
    "data = pl.read_csv(\"data.csv\", parse_dates=False)\n",
    "data = data.with_columns(pl.col(\"date\").str.slice(-7).alias(\"date_monthly\"))\n",
    "data = data.with_column(pl.col(\"date\").str.strptime(pl.Date, fmt=\"%d/%m/%Y\"))"
   ],
   "metadata": {
    "collapsed": false,
    "pycharm": {
     "name": "#%%\n"
    }
   }
  },
  {
   "cell_type": "code",
   "execution_count": null,
   "outputs": [],
   "source": [
    "data = data[:1000000]"
   ],
   "metadata": {
    "collapsed": false,
    "pycharm": {
     "name": "#%%\n"
    }
   }
  },
  {
   "cell_type": "code",
   "execution_count": null,
   "outputs": [],
   "source": [
    "# Text data pre-processing"
   ],
   "metadata": {
    "collapsed": false,
    "pycharm": {
     "name": "#%%\n"
    }
   }
  },
  {
   "cell_type": "code",
   "execution_count": null,
   "outputs": [],
   "source": [
    "from cleantext import clean\n",
    "\n",
    "def preprocess(text):\n",
    "    output = clean(str(text), punct=True,\n",
    "                              extra_spaces=True,\n",
    "                              stopwords=True,\n",
    "                              lowercase=True,\n",
    "                              numbers = True)\n",
    "    return output"
   ],
   "metadata": {
    "collapsed": false,
    "pycharm": {
     "name": "#%%\n"
    }
   }
  },
  {
   "cell_type": "code",
   "execution_count": null,
   "outputs": [],
   "source": [
    "data_clean = data.with_columns([\n",
    "    pl.col(\"headline\").apply(preprocess)\n",
    "])"
   ],
   "metadata": {
    "collapsed": false,
    "pycharm": {
     "name": "#%%\n"
    }
   }
  },
  {
   "cell_type": "code",
   "execution_count": null,
   "outputs": [],
   "source": [
    "# Text data representation\n",
    "\n",
    "from vaderSentiment.vaderSentiment import SentimentIntensityAnalyzer\n",
    "\n",
    "# calculate the compound score\n",
    "def sentiment_vader(sentence):\n",
    "\n",
    "    # create a SentimentIntensityAnalyzer object.\n",
    "    sid_obj = SentimentIntensityAnalyzer()\n",
    "\n",
    "    sentiment_dict = sid_obj.polarity_scores(sentence)\n",
    "\n",
    "    # create overall (compound) indicator\n",
    "    compound = sentiment_dict['compound']\n",
    "\n",
    "    return compound"
   ],
   "metadata": {
    "collapsed": false,
    "pycharm": {
     "name": "#%%\n"
    }
   }
  },
  {
   "cell_type": "code",
   "execution_count": null,
   "outputs": [],
   "source": [
    "# apply the function with Polars\n",
    "\n",
    "sentiment = data_clean.with_columns([\n",
    "    pl.col(\"headline\").apply(sentiment_vader)\n",
    "])"
   ],
   "metadata": {
    "collapsed": false,
    "pycharm": {
     "name": "#%%\n"
    }
   }
  },
  {
   "cell_type": "code",
   "execution_count": null,
   "outputs": [],
   "source": [
    "# Time-series representation"
   ],
   "metadata": {
    "collapsed": false,
    "pycharm": {
     "name": "#%%\n"
    }
   }
  },
  {
   "cell_type": "code",
   "execution_count": null,
   "outputs": [],
   "source": [
    "# aggregate over months\n",
    "\n",
    "timeseries = (sentiment.lazy()\n",
    "    .groupby(\"date_monthly\")\n",
    "    .agg(\n",
    "        [\n",
    "            pl.avg(\"headline\")\n",
    "        ]\n",
    "    ).sort(\"date_monthly\")\n",
    ").collect()\n"
   ],
   "metadata": {
    "collapsed": false,
    "pycharm": {
     "name": "#%%\n"
    }
   }
  },
  {
   "cell_type": "code",
   "execution_count": null,
   "metadata": {
    "id": "g7Dq7h6I1WjP",
    "pycharm": {
     "name": "#%%\n"
    }
   },
   "outputs": [],
   "source": [
    "# Time-series representation"
   ]
  },
  {
   "cell_type": "code",
   "execution_count": null,
   "metadata": {
    "id": "S5C18fOMwLlY",
    "pycharm": {
     "name": "#%%\n"
    }
   },
   "outputs": [],
   "source": [
    "# aggregate over months\n",
    "\n",
    "timeseries = (sentiment.lazy()\n",
    "    .groupby(\"date_monthly\")\n",
    "    .agg(\n",
    "        [\n",
    "            pl.avg(\"headline\")\n",
    "        ]\n",
    "    ).sort(\"date_monthly\")\n",
    ").collect()\n"
   ]
  }
 ],
 "metadata": {
  "accelerator": "GPU",
  "colab": {
   "machine_shape": "hm",
   "provenance": []
  },
  "gpuClass": "standard",
  "kernelspec": {
   "display_name": "Python 3",
   "language": "python",
   "name": "python3"
  },
  "language_info": {
   "codemirror_mode": {
    "name": "ipython",
    "version": 2
   },
   "file_extension": ".py",
   "mimetype": "text/x-python",
   "name": "python",
   "nbconvert_exporter": "python",
   "pygments_lexer": "ipython2",
   "version": "2.7.6"
  }
 },
 "nbformat": 4,
 "nbformat_minor": 0
}